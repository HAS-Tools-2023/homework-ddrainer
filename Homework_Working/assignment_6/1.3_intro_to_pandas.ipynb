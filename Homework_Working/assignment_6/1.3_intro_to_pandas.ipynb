{
 "cells": [
  {
   "cell_type": "markdown",
   "metadata": {},
   "source": [
    "### Pandas Overview\n",
    "This tutorial is adapted from the followin [reference](https://medium.com/@ulriktpedersen/15-pandas-tips-step-up-your-dataframe-game-bb413e6c2138) please checkout that site for more explanation and tips on working with Pandas dataframes. \n",
    "\n",
    "Also you can always refer to the Pandas [Documentation](https://pandas.pydata.org/docs/) for complete documentation of the library and more examples. \n",
    "\n",
    "Here we will walk through some of the most commonly used pandas functions to get you familiar with the libraries capabilities. \n",
    "\n",
    "To get started we'll use one of our streamflow CSV files as an example."
   ]
  },
  {
   "cell_type": "code",
   "execution_count": 2,
   "metadata": {},
   "outputs": [],
   "source": [
    "import pandas as pd\n",
    "import numpy as np\n",
    "import datetime\n",
    "\n",
    "# Read in the streamflow csv as a pandas dataframe\n",
    "data = pd.read_table('../../data/streamflow_week5.txt', sep='\\t', skiprows=31,\n",
    "                     names=['agency_cd', 'site_no', 'datetime', 'flow', 'code'],parse_dates=['datetime'] )\n",
    "data.set_index('datetime', inplace=True)\n",
    "\n",
    "# extract the year, month, and day\n",
    "data['year'] = data.index.year\n",
    "data['month'] = data.index.month\n",
    "data['day'] = data.index.day"
   ]
  },
  {
   "cell_type": "markdown",
   "metadata": {},
   "source": [
    "### Use the Head and Tail functions to quickly look at the data\n",
    "The head() and tail() functions allow you to quickly view the first and last few rows of a data frame, respectively. This is useful for getting a quick overview of the data and checking if it's been loaded correctly.\n",
    "\n",
    "**NOTE the syntax here**: Head and tail are both methods are they are linked with the object. So we call them by `data_object_name.method()` in this case our object is called `data` so we say `data.head()` if we had named our dataset above `stream_data` instead then this call would be `stream_data.head()`"
   ]
  },
  {
   "cell_type": "code",
   "execution_count": 3,
   "metadata": {},
   "outputs": [
    {
     "name": "stdout",
     "output_type": "stream",
     "text": [
      "Here are the first five rows of my dataframe\n",
      "           agency_cd  site_no   flow code  year  month  day\n",
      "datetime                                                   \n",
      "1989-01-01      USGS  9506000  207.0    A  1989      1    1\n",
      "1989-01-02      USGS  9506000  205.0    A  1989      1    2\n",
      "1989-01-03      USGS  9506000  205.0    A  1989      1    3\n",
      "1989-01-04      USGS  9506000  232.0    A  1989      1    4\n",
      "1989-01-05      USGS  9506000  259.0    A  1989      1    5\n",
      "Here are the last five rows of my dataframe\n",
      "           agency_cd  site_no  flow code  year  month  day\n",
      "datetime                                                  \n",
      "2023-09-19      USGS  9506000  81.9    P  2023      9   19\n",
      "2023-09-20      USGS  9506000  74.5    P  2023      9   20\n",
      "2023-09-21      USGS  9506000  73.2    P  2023      9   21\n",
      "2023-09-22      USGS  9506000  66.8    P  2023      9   22\n",
      "2023-09-23      USGS  9506000  71.1    P  2023      9   23\n"
     ]
    }
   ],
   "source": [
    "# view the first 5 rows\n",
    "print(\"Here are the first five rows of my dataframe\")\n",
    "print(data.head())\n",
    "\n",
    "# view the last 5 rows\n",
    "print(\"Here are the last five rows of my dataframe\")\n",
    "print(data.tail())\n"
   ]
  },
  {
   "cell_type": "markdown",
   "metadata": {},
   "source": [
    "## Summarize the dataframe\n",
    "The methods `describe` and `info` provide easy and helpful summaries of the data"
   ]
  },
  {
   "cell_type": "code",
   "execution_count": 4,
   "metadata": {},
   "outputs": [
    {
     "name": "stdout",
     "output_type": "stream",
     "text": [
      "This is the info\n",
      "<class 'pandas.core.frame.DataFrame'>\n",
      "DatetimeIndex: 12684 entries, 1989-01-01 to 2023-09-23\n",
      "Data columns (total 7 columns):\n",
      " #   Column     Non-Null Count  Dtype  \n",
      "---  ------     --------------  -----  \n",
      " 0   agency_cd  12684 non-null  object \n",
      " 1   site_no    12684 non-null  int64  \n",
      " 2   flow       12667 non-null  float64\n",
      " 3   code       12667 non-null  object \n",
      " 4   year       12684 non-null  int32  \n",
      " 5   month      12684 non-null  int32  \n",
      " 6   day        12684 non-null  int32  \n",
      "dtypes: float64(1), int32(3), int64(1), object(2)\n",
      "memory usage: 644.1+ KB\n",
      "None\n",
      "This is what describe gives you\n",
      "         site_no          flow          year         month           day\n",
      "count    12684.0  12667.000000  12684.000000  12684.000000  12684.000000\n",
      "mean   9506000.0    353.192587   2005.867313      6.489357     15.721854\n",
      "std          0.0   1464.717308     10.025937      3.439771      8.798025\n",
      "min    9506000.0     19.000000   1989.000000      1.000000      1.000000\n",
      "25%    9506000.0     93.000000   1997.000000      4.000000      8.000000\n",
      "50%    9506000.0    157.000000   2006.000000      6.000000     16.000000\n",
      "75%    9506000.0    215.000000   2015.000000      9.000000     23.000000\n",
      "max    9506000.0  63400.000000   2023.000000     12.000000     31.000000\n"
     ]
    }
   ],
   "source": [
    "print(\"This is the info\")\n",
    "print(data.info())\n",
    "\n",
    "print(\"This is what describe gives you\")\n",
    "print(data.describe())"
   ]
  },
  {
   "cell_type": "markdown",
   "metadata": {},
   "source": [
    "### Selecting Data with Loc and Iloc\n",
    "- `loc[]` and `iloc[]` are two methods for selecting data from a data frame. `loc[]` is used for label-based indexing, while `iloc[]` is used for integer-based indexing. Understanding these methods is essential for selecting specific rows and columns from a data frame.\n",
    "- Syntax note: here too these are methods associated with the object so the object name comes first. Note though that we use `[]` because these are indexing the dataframe instead of the usual `()` that we use for functions and methods. "
   ]
  },
  {
   "cell_type": "code",
   "execution_count": 5,
   "metadata": {},
   "outputs": [
    {
     "name": "stdout",
     "output_type": "stream",
     "text": [
      "Full row select using loc\n",
      "agency_cd       USGS\n",
      "site_no      9506000\n",
      "flow           205.0\n",
      "code               A\n",
      "year            1989\n",
      "month              1\n",
      "day                3\n",
      "Name: 1989-01-03 00:00:00, dtype: object\n",
      "Single Column select using loc\n",
      "           agency_cd  site_no   flow code  year  month  day\n",
      "datetime                                                   \n",
      "1989-01-01      USGS  9506000  207.0    A  1989      1    1\n",
      "1989-01-02      USGS  9506000  205.0    A  1989      1    2\n",
      "1989-01-03      USGS  9506000  205.0    A  1989      1    3\n",
      "1989-01-04      USGS  9506000  232.0    A  1989      1    4\n",
      "1989-01-05      USGS  9506000  259.0    A  1989      1    5\n",
      "...              ...      ...    ...  ...   ...    ...  ...\n",
      "2023-09-06      USGS  9506000  105.0    P  2023      9    6\n",
      "2023-09-07      USGS  9506000   88.4    P  2023      9    7\n",
      "2023-09-08      USGS  9506000    NaN  NaN  2023      9    8\n",
      "2023-09-09      USGS  9506000    NaN  NaN  2023      9    9\n",
      "2023-09-10      USGS  9506000    NaN  NaN  2023      9   10\n",
      "\n",
      "[4170 rows x 7 columns]\n"
     ]
    }
   ],
   "source": [
    "# select a full by row by its index value using loc[]\n",
    "print(\"Full row select using loc\")\n",
    "print(data.loc[\"1989-01-03\"])\n",
    "\n",
    "#select a all the rows where the column values meet some criteria\n",
    "print('Single Column select using loc')\n",
    "print(data.loc[data['day'] <= 10])\n",
    "\n",
    "#select rows and columns using iloc[]\n",
    "#print(\"Selct using iloc\")\n",
    "#print(data.iloc[0:5, 0:3])  \n"
   ]
  },
  {
   "cell_type": "markdown",
   "metadata": {},
   "source": [
    "### Grouping and Aggregating Data\n",
    "Grouping and aggregating data are powerful functions in Pandas. `groupby()` allows you to group data by one or more columns, while `agg()` calculates summary statistics for each group. These functions are useful for summarizing and analyzing large data sets.\n",
    "\n",
    "The syntax for these two approaches is as follows: \n",
    "group data by a column and calculate the mean:\n",
    "\n",
    "```grouped_df = df.groupby('column_name').agg({'column_to_agg': 'mean'})```\n",
    "\n",
    "group data by multiple columns and calculate the sum:\n",
    "\n",
    "```grouped_df = df.groupby(['column1', 'column2']).agg({'column_to_agg': 'sum'})```\n"
   ]
  },
  {
   "cell_type": "code",
   "execution_count": 6,
   "metadata": {},
   "outputs": [
    {
     "name": "stdout",
     "output_type": "stream",
     "text": [
      "                  flow\n",
      "year month            \n",
      "1989 1      214.064516\n",
      "     2      263.035714\n",
      "     3      299.387097\n",
      "     4      126.433333\n",
      "     5       87.774194\n",
      "...                ...\n",
      "2023 5      128.903226\n",
      "     6       70.896667\n",
      "     7       46.331818\n",
      "     8       84.300000\n",
      "     9       92.886667\n",
      "\n",
      "[417 rows x 1 columns]\n"
     ]
    }
   ],
   "source": [
    "monthly_sum = data.groupby(['year', 'month']).agg({'flow': 'mean'})\n",
    "print(monthly_sum)\n",
    "\n",
    "\n"
   ]
  },
  {
   "cell_type": "code",
   "execution_count": 7,
   "metadata": {},
   "outputs": [
    {
     "name": "stdout",
     "output_type": "stream",
     "text": [
      "            flow           year\n",
      "             min      max   min\n",
      "month day                      \n",
      "1     1    175.0   4980.0  1989\n",
      "      2    173.0   5410.0  1989\n",
      "      3    172.0   2660.0  1989\n",
      "      4    172.0   8130.0  1989\n",
      "      5    170.0   5700.0  1989\n",
      "...          ...      ...   ...\n",
      "12    27   169.0    899.0  1989\n",
      "      28   167.0   1320.0  1989\n",
      "      29   177.0   7430.0  1989\n",
      "      30   176.0  28700.0  1989\n",
      "      31   173.0   6900.0  1989\n",
      "\n",
      "[366 rows x 3 columns]\n"
     ]
    }
   ],
   "source": [
    "#Example using group and describe\n",
    "#monthly_data = data.groupby('month')[[\"flow\"]].describe()\n",
    "#print(monthly_data)\n",
    "\n",
    "#A bunch of different examples using groupby and agg together. Add print statments thorughout to see what each of these do. \n",
    "monthly_sum = data.groupby('month').agg('sum')\n",
    "\n",
    "monthly_sum = data.groupby(['month']).agg({'flow': 'min'})\n",
    "\n",
    "monthly_sum = data.groupby(['month', 'day']).agg(\n",
    "    {'flow': 'min'})\n",
    "\n",
    "monthly_sum = data.groupby(['month', 'day']).agg('mean', numeric_only=True)\n",
    "monthly_sum = data.groupby(['month', 'day']).agg({'flow': ['min', 'max'], 'year': 'min'})\n",
    "\n",
    "print(monthly_sum)\n",
    "\n"
   ]
  },
  {
   "cell_type": "code",
   "execution_count": 11,
   "metadata": {},
   "outputs": [
    {
     "name": "stdout",
     "output_type": "stream",
     "text": [
      "             site_no         flow    year\n",
      "month day                                \n",
      "1     1    9506000.0   540.428571  2006.0\n",
      "      2    9506000.0   590.000000  2006.0\n",
      "      3    9506000.0   403.828571  2006.0\n",
      "      4    9506000.0   528.228571  2006.0\n",
      "      5    9506000.0   462.942857  2006.0\n",
      "...              ...          ...     ...\n",
      "12    27   9506000.0   286.852941  2005.5\n",
      "      28   9506000.0   302.088235  2005.5\n",
      "      29   9506000.0   660.382353  2005.5\n",
      "      30   9506000.0  1277.941176  2005.5\n",
      "      31   9506000.0   578.441176  2005.5\n",
      "\n",
      "[366 rows x 3 columns]\n"
     ]
    }
   ],
   "source": [
    "monthly_sum = data.groupby(['month', 'day']).agg('mean', numeric_only=True)\n",
    "print(monthly_sum)"
   ]
  },
  {
   "cell_type": "code",
   "execution_count": 1,
   "metadata": {},
   "outputs": [
    {
     "ename": "NameError",
     "evalue": "name 'data' is not defined",
     "output_type": "error",
     "traceback": [
      "\u001b[1;31m---------------------------------------------------------------------------\u001b[0m",
      "\u001b[1;31mNameError\u001b[0m                                 Traceback (most recent call last)",
      "\u001b[1;32mc:\\Users\\dave8\\Desktop\\HAS_tools\\homework-ddrainer\\Homework_Working\\assignment_6\\1.3_intro_to_pandas.ipynb Cell 13\u001b[0m line \u001b[0;36m1\n\u001b[1;32m----> <a href='vscode-notebook-cell:/c%3A/Users/dave8/Desktop/HAS_tools/homework-ddrainer/Homework_Working/assignment_6/1.3_intro_to_pandas.ipynb#X15sZmlsZQ%3D%3D?line=0'>1</a>\u001b[0m monthly_sum \u001b[39m=\u001b[39m data\u001b[39m.\u001b[39mgroupby([\u001b[39m'\u001b[39m\u001b[39mmonth\u001b[39m\u001b[39m'\u001b[39m])\u001b[39m.\u001b[39magg(\u001b[39m'\u001b[39m\u001b[39mmean\u001b[39m\u001b[39m'\u001b[39m, numeric_only\u001b[39m=\u001b[39m\u001b[39mTrue\u001b[39;00m)\n",
      "\u001b[1;31mNameError\u001b[0m: name 'data' is not defined"
     ]
    }
   ],
   "source": [
    "monthly_sum = data.groupby(['month']).agg('mean', numeric_only=True)"
   ]
  },
  {
   "cell_type": "code",
   "execution_count": null,
   "metadata": {},
   "outputs": [],
   "source": []
  }
 ],
 "metadata": {
  "kernelspec": {
   "display_name": "hastools",
   "language": "python",
   "name": "python3"
  },
  "language_info": {
   "codemirror_mode": {
    "name": "ipython",
    "version": 3
   },
   "file_extension": ".py",
   "mimetype": "text/x-python",
   "name": "python",
   "nbconvert_exporter": "python",
   "pygments_lexer": "ipython3",
   "version": "3.8.17"
  },
  "orig_nbformat": 4
 },
 "nbformat": 4,
 "nbformat_minor": 2
}
